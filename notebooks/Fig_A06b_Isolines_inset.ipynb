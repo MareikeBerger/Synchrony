{
 "cells": [
  {
   "cell_type": "code",
   "execution_count": 1,
   "metadata": {},
   "outputs": [],
   "source": [
    "import numpy as np\n",
    "import pandas as pd\n",
    "import os\n",
    "import seaborn as sns\n",
    "import matplotlib.pyplot as plt\n",
    "import scipy.integrate as integrate\n",
    "import random\n",
    "\n",
    "import synchrony.PlottingTools as plottingTools\n",
    "from synchrony.ParameterSet import ParameterSet\n",
    "import synchrony.DataStorage as dataStorage\n",
    "import synchrony.DataAnalysis as dataAnalysis\n",
    "import synchrony.MakeDataframe as makeDataframe\n",
    "from synchrony import mainClass"
   ]
  },
  {
   "cell_type": "code",
   "execution_count": 2,
   "metadata": {},
   "outputs": [
    {
     "name": "stdout",
     "output_type": "stream",
     "text": [
      "file_path /home/berger/Data/Synchrony/Paper/Fig_A06\n",
      "parameter_path /home/berger/Data/Synchrony/Paper/Fig_A06/parameter_set.csv\n"
     ]
    }
   ],
   "source": [
    "file_path_input_params_json = '../input_params.json'\n",
    "input_param_dict = mainClass.extract_variables_from_input_params_json(file_path_input_params_json)\n",
    "root_path = input_param_dict[\"DATA_FOLDER_PATH\"]\n",
    "simulation_location = 'Paper/Fig_A06' #'Paper/X_Appendix/A4_higher_firing_rate/A4c' or 'Paper/Fig_4/Fig_4bc'\n",
    "file_path = os.path.join(root_path, simulation_location)\n",
    "print('file_path', file_path)\n",
    "parameter_path = os.path.join(file_path, 'parameter_set.csv')\n",
    "print('parameter_path', parameter_path)"
   ]
  },
  {
   "cell_type": "code",
   "execution_count": 3,
   "metadata": {},
   "outputs": [],
   "source": [
    "pinkish_red = (247 / 255, 109 / 255, 109 / 255)\n",
    "green = (0 / 255, 133 / 255, 86 / 255)\n",
    "dark_blue = (36 / 255, 49 / 255, 94 / 255)\n",
    "light_blue = (168 / 255, 209 / 255, 231 / 255)\n",
    "blue = (55 / 255, 71 / 255, 133 / 255)\n",
    "yellow = (247 / 255, 233 / 255, 160 / 255)"
   ]
  },
  {
   "cell_type": "code",
   "execution_count": 4,
   "metadata": {},
   "outputs": [],
   "source": [
    "def calculate_av_V_b_th(v_init, growth_rate, T_CC):\n",
    "    return v_init/2 * np.exp(growth_rate* T_CC)\n",
    "\n",
    "def calculate_av_number_origins_at_birth(doubling_time, T_CC):\n",
    "    # this function determines the average number of origins present at birth (depends on relative length of TCC and the doubling time)\n",
    "    ratio = T_CC / doubling_time\n",
    "    conditions = [(ratio<1), (ratio>=1)&(ratio<2), (ratio>=2)&(ratio<3), (ratio>=3)&(ratio<4)]\n",
    "    choiceX = [1, 2, 4, 8]\n",
    "    n_ori_b = np.select(conditions, choiceX)\n",
    "    return n_ori_b\n",
    "\n",
    "def calcuate_max_rate_given_n_eff(n, growth_rate, v_init, v_b):\n",
    "        return n*growth_rate * np.log(2)/np.log((2 * v_init**n)/(v_b**n+v_init**n))"
   ]
  },
  {
   "cell_type": "code",
   "execution_count": 5,
   "metadata": {},
   "outputs": [],
   "source": [
    "doubling_rate = 1.5\n",
    "growth_rate = np.log(2) * doubling_rate\n",
    "v_init = 1\n",
    "n_eff = np.arange(10, 30, 2)\n",
    "k_max =  np.arange(10, 1000, 20)\n",
    "t_cc = 1\n",
    "delay_max = 0.16\n",
    "v_b = calculate_av_V_b_th(v_init, growth_rate, t_cc)\n",
    "n_ori_birth = calculate_av_number_origins_at_birth(1/doubling_rate, t_cc)\n",
    "v_b_per_ori = 0.4 #v_b/n_ori_birth\n",
    "t_max = 15"
   ]
  },
  {
   "cell_type": "code",
   "execution_count": 6,
   "metadata": {},
   "outputs": [
    {
     "name": "stdout",
     "output_type": "stream",
     "text": [
      "[10 12 14 16 18 20 22 24 26 28] [ 10  30  50  70  90 110 130 150 170 190 210 230 250 270 290 310 330 350\n",
      " 370 390 410 430 450 470 490 510 530 550 570 590 610 630 650 670 690 710\n",
      " 730 750 770 790 810 830 850 870 890 910 930 950 970 990] 0.4\n"
     ]
    }
   ],
   "source": [
    "print(n_eff, k_max, v_b_per_ori)"
   ]
  },
  {
   "cell_type": "markdown",
   "metadata": {},
   "source": [
    "# Make data frame"
   ]
  },
  {
   "cell_type": "code",
   "execution_count": 7,
   "metadata": {},
   "outputs": [],
   "source": [
    "def make_two_parameter_arrays_given_two_arrays(np_array1, np_array2):\n",
    "    new_np_array1 = np.array([])\n",
    "    new_np_array2 = np.array([])\n",
    "    for idx, value in enumerate(np_array1):\n",
    "        new_np_array1 = np.append(new_np_array1, np.ones(np_array2.size)* value)\n",
    "        new_np_array2 = np.append(new_np_array2, np_array2)\n",
    "    return new_np_array1, new_np_array2"
   ]
  },
  {
   "cell_type": "code",
   "execution_count": 8,
   "metadata": {},
   "outputs": [],
   "source": [
    "n_eff_long, k_max_long = make_two_parameter_arrays_given_two_arrays(n_eff, k_max)\n",
    "data_frame = pd.DataFrame.from_dict({'n_eff': n_eff_long, 'k_max': k_max_long})"
   ]
  },
  {
   "cell_type": "markdown",
   "metadata": {},
   "source": [
    "# Functions"
   ]
  },
  {
   "cell_type": "code",
   "execution_count": 9,
   "metadata": {},
   "outputs": [],
   "source": [
    "def integrand_prob_two_events_new(t1, growth_rate_, v_init_, V_b_, n_, firing_rate_0_, delta_t):\n",
    "    vol_t1 = V_b_ * np.exp(growth_rate_ * t1)\n",
    "    vol_t1_delay = V_b_ * np.exp(growth_rate_ * (t1+ delta_t))\n",
    "    prefactor = 2 * firing_rate_0_ * vol_t1**n_/(vol_t1**n_ + v_init_**n_)\n",
    "    exponential = ((vol_t1_delay**n_ + v_init_**n_) * (vol_t1**n_ + v_init_**n_)/(V_b_**n_ + v_init_**n_)**2)**(-firing_rate_0_/(growth_rate_ * n_))\n",
    "    return prefactor * exponential\n",
    "\n",
    "def waiting_time_dist_indef(time_, growth_rate_, effective_hill_coeff_, v_init_, V_b_, firing_rate_0_):\n",
    "    vol = V_b_ * np.exp(growth_rate_* time_)\n",
    "    prefactor = firing_rate_0_ * vol**effective_hill_coeff_ / (vol**effective_hill_coeff_ + v_init_**effective_hill_coeff_ )\n",
    "    return prefactor * calculate_survival_probability_indefinite(time_, \n",
    "                                                                 growth_rate_, \n",
    "                                                                 effective_hill_coeff_, \n",
    "                                                                 v_init_, \n",
    "                                                                 V_b_,\n",
    "                                                                 firing_rate_0_)\n",
    "\n",
    "def calculate_survival_probability_indefinite(time_, growth_rate_, effective_hill_coeff_, v_init_, V_b_, firing_rate_0_):\n",
    "    return np.exp(- firing_rate_0_ / (growth_rate_ * effective_hill_coeff_) \n",
    "                  * np.log(v_init_**effective_hill_coeff_ + (V_b_ * np.exp(growth_rate_ * time_))**effective_hill_coeff_))\n",
    "\n",
    "def integrand_mean(time, growth_rate_, v_init_, V_b_, n_, rate):\n",
    "    return waiting_time_dist_indef(time, growth_rate_, n_, v_init_, V_b_, rate) * (V_b_ * np.exp(growth_rate_ * time))\n",
    "\n",
    "def calculate_mean_theoretical(growth_rate_, v_init_, V_b_, n_, rate, t_d_):\n",
    "    result = integrate.quad(lambda x: integrand_mean(x, growth_rate_, v_init_, V_b_, n_, rate), 0, t_d_)\n",
    "    return result\n",
    "\n",
    "def calculate_fraction_from_prob(prob):\n",
    "    return prob + (1-prob)* 0.5"
   ]
  },
  {
   "cell_type": "code",
   "execution_count": 10,
   "metadata": {},
   "outputs": [],
   "source": [
    "data_frame.loc[:, 'theoretical_prediction'] = data_frame.apply(lambda row: 1-integrate.quad(lambda x: integrand_prob_two_events_new(x,\n",
    "                                                                                               growth_rate,\n",
    "                                                                                               v_init,\n",
    "                                                                                               v_b_per_ori,\n",
    "                                                                                               row.n_eff, \n",
    "                                                                                               row.k_max,\n",
    "                                                                                               delay_max) , 0,  13)[0], axis = 1)\n",
    "\n",
    "data_frame.loc[:, 'th_deg_synch'] = data_frame.apply(lambda row: calculate_fraction_from_prob(row.theoretical_prediction), axis = 1)\n",
    "\n",
    "# data_frame.loc[:, 'theoretical_mean'] = data_frame.apply(lambda row: calculate_mean_theoretical(growth_rate,\n",
    "#                                   v_init,\n",
    "#                                   v_b_per_ori,\n",
    "#                                   row.n_eff,\n",
    "#                                   row.k_max,\n",
    "#                                   t_max\n",
    "#                                  )[0], axis = 1)"
   ]
  },
  {
   "cell_type": "markdown",
   "metadata": {},
   "source": [
    "## Contour plot"
   ]
  },
  {
   "cell_type": "code",
   "execution_count": 12,
   "metadata": {},
   "outputs": [
    {
     "data": {
      "image/png": "[encoded data removed]",
      "text/plain": [
       "<Figure size 144x144 with 1 Axes>"
      ]
     },
     "metadata": {
      "needs_background": "light"
     },
     "output_type": "display_data"
    }
   ],
   "source": [
    "import matplotlib.colors as colors\n",
    "import matplotlib as mpl\n",
    "\n",
    "data_frame_ordered = data_frame.sort_values(by=[\"k_max\"])\n",
    "cmap = mpl.cm.get_cmap(\"seismic\").copy()\n",
    "cmap.set_over('darkred')\n",
    "fig, ax = plt.subplots(1, figsize=(2,2))\n",
    "tcf= plt.tricontourf(data_frame_ordered.n_eff,\n",
    "               data_frame_ordered.k_max,\n",
    "               data_frame_ordered.th_deg_synch,\n",
    "               cmap='plasma',\n",
    "                    levels=10)\n",
    "plt.tricontour(data_frame_ordered.n_eff,\n",
    "               data_frame_ordered.k_max,\n",
    "               data_frame_ordered.th_deg_synch, colors='k',\n",
    "                    levels=10)\n",
    "ax.set(ylabel=r'$k_{\\rm f}^0}$ [h$^{-1}$]', xlabel=r'$n_{\\rm eff}$')\n",
    "# fig.colorbar(tcf)\n",
    "plt.axvline(20, color='r')\n",
    "ax.patch.set_edgecolor('black')  \n",
    "ax.patch.set_linewidth('1')  \n",
    "# plt.xticks(np.arange(10, 50, 5)) \n",
    "# plt.plot(n_eff[:-1], calcuate_max_rate_given_n_eff(n_eff[:-1], growth_rate, v_init, v_b_per_ori), color='grey', linestyle='--')\n",
    "plt.savefig(file_path + '/fig_A11b_isolines.pdf', format='pdf', bbox_inches='tight', dpi=400)"
   ]
  },
  {
   "cell_type": "code",
   "execution_count": null,
   "metadata": {},
   "outputs": [],
   "source": []
  },
  {
   "cell_type": "code",
   "execution_count": null,
   "metadata": {},
   "outputs": [],
   "source": []
  }
 ],
 "metadata": {
  "kernelspec": {
   "display_name": "synchrony_project",
   "language": "python",
   "name": "synchrony_project"
  },
  "language_info": {
   "codemirror_mode": {
    "name": "ipython",
    "version": 3
   },
   "file_extension": ".py",
   "mimetype": "text/x-python",
   "name": "python",
   "nbconvert_exporter": "python",
   "pygments_lexer": "ipython3",
   "version": "3.7.3"
  }
 },
 "nbformat": 4,
 "nbformat_minor": 2
}
