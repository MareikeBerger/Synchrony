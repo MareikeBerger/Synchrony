{
 "cells": [
  {
   "cell_type": "code",
   "execution_count": 3,
   "metadata": {},
   "outputs": [],
   "source": [
    "import numpy as np\n",
    "import pandas as pd\n",
    "import os\n",
    "from glob import glob\n",
    "from pprint import pprint\n",
    "import json\n",
    "import seaborn as sns\n",
    "import matplotlib.pyplot as plt\n",
    "from matplotlib.collections import LineCollection\n",
    "from matplotlib.colors import ListedColormap, BoundaryNorm\n",
    "import matplotlib.pyplot as plt\n",
    "\n",
    "import cellcycle.PlottingTools as plottingTools\n",
    "from cellcycle.ParameterSet import ParameterSet\n",
    "import cellcycle.DataStorage as dataStorage\n",
    "import cellcycle.DataAnalysis as dataAnalysis\n",
    "import cellcycle.MakeDataframe as makeDataframe\n",
    "from cellcycle import mainClass"
   ]
  },
  {
   "cell_type": "code",
   "execution_count": 4,
   "metadata": {},
   "outputs": [],
   "source": [
    "model = 'no_cascade' # options 'no_cascade' or 'with_cascade'\n",
    "indx = 0 # specified growth rate, if 0 then low"
   ]
  },
  {
   "cell_type": "code",
   "execution_count": 5,
   "metadata": {},
   "outputs": [
    {
     "name": "stdout",
     "output_type": "stream",
     "text": [
      "file_path /home/berger/Data/Synchrony/Paper/Fig_A03/time_traces_det/no_cascade\n",
      "parameter_path /home/berger/Data/Synchrony/Paper/Fig_A03/time_traces_det/no_cascade/parameter_set.csv\n"
     ]
    }
   ],
   "source": [
    "file_path_input_params_json = '../input_params.json'\n",
    "input_param_dict = mainClass.extract_variables_from_input_params_json(file_path_input_params_json)\n",
    "root_path = input_param_dict[\"DATA_FOLDER_PATH\"]\n",
    "simulation_location = 'Paper/Fig_A03/time_traces_det/'+model\n",
    "file_path = os.path.join(root_path, simulation_location)\n",
    "print('file_path', file_path)\n",
    "parameter_path = os.path.join(file_path, 'parameter_set.csv')\n",
    "print('parameter_path', parameter_path)"
   ]
  },
  {
   "cell_type": "markdown",
   "metadata": {},
   "source": [
    "# Make data frame from time traces"
   ]
  },
  {
   "cell_type": "code",
   "execution_count": 6,
   "metadata": {},
   "outputs": [
    {
     "name": "stdout",
     "output_type": "stream",
     "text": [
      "['/home/berger/Data/Synchrony/Paper/Fig_A03/time_traces_det/no_cascade/no_casc',\n",
      " '/home/berger/Data/Synchrony/Paper/Fig_A03/time_traces_det/no_cascade/Example_time_trace_no_cascade.pdf']\n"
     ]
    },
    {
     "data": {
      "text/html": [
       "<div>\n",
       "<style scoped>\n",
       "    .dataframe tbody tr th:only-of-type {\n",
       "        vertical-align: middle;\n",
       "    }\n",
       "\n",
       "    .dataframe tbody tr th {\n",
       "        vertical-align: top;\n",
       "    }\n",
       "\n",
       "    .dataframe thead th {\n",
       "        text-align: right;\n",
       "    }\n",
       "</style>\n",
       "<table border=\"1\" class=\"dataframe\">\n",
       "  <thead>\n",
       "    <tr style=\"text-align: right;\">\n",
       "      <th></th>\n",
       "      <th>activation_rate_dars1</th>\n",
       "      <th>activation_rate_dars2</th>\n",
       "      <th>activation_rate_lipids</th>\n",
       "      <th>additional_open_state</th>\n",
       "      <th>ask_whether_continue_if_too_deep</th>\n",
       "      <th>basal_rate_initiator</th>\n",
       "      <th>basal_rate_initiator_0</th>\n",
       "      <th>block_production</th>\n",
       "      <th>block_production_offset</th>\n",
       "      <th>block_production_onset</th>\n",
       "      <th>...</th>\n",
       "      <th>t_onset_RIDA</th>\n",
       "      <th>t_onset_dars2</th>\n",
       "      <th>t_onset_datA</th>\n",
       "      <th>time_step</th>\n",
       "      <th>total_conc_0</th>\n",
       "      <th>v_0</th>\n",
       "      <th>v_init_th</th>\n",
       "      <th>version_of_coupled_division_regulation</th>\n",
       "      <th>version_of_independent_division_regulation</th>\n",
       "      <th>version_of_model</th>\n",
       "    </tr>\n",
       "  </thead>\n",
       "  <tbody>\n",
       "    <tr>\n",
       "      <th>0</th>\n",
       "      <td>100.0</td>\n",
       "      <td>50.0</td>\n",
       "      <td>800.0</td>\n",
       "      <td>0.0</td>\n",
       "      <td>0.0</td>\n",
       "      <td>415.888308</td>\n",
       "      <td>400.0</td>\n",
       "      <td>0.0</td>\n",
       "      <td>0.17</td>\n",
       "      <td>0.11</td>\n",
       "      <td>...</td>\n",
       "      <td>0.05</td>\n",
       "      <td>0.25</td>\n",
       "      <td>0.13</td>\n",
       "      <td>0.0001</td>\n",
       "      <td>400.0</td>\n",
       "      <td>0.5</td>\n",
       "      <td>1.0</td>\n",
       "      <td>cooper</td>\n",
       "      <td>IDA</td>\n",
       "      <td>full_model</td>\n",
       "    </tr>\n",
       "  </tbody>\n",
       "</table>\n",
       "<p>1 rows × 91 columns</p>\n",
       "</div>"
      ],
      "text/plain": [
       "   activation_rate_dars1  activation_rate_dars2  activation_rate_lipids  \\\n",
       "0                  100.0                   50.0                   800.0   \n",
       "\n",
       "   additional_open_state  ask_whether_continue_if_too_deep  \\\n",
       "0                    0.0                               0.0   \n",
       "\n",
       "   basal_rate_initiator  basal_rate_initiator_0  block_production  \\\n",
       "0            415.888308                   400.0               0.0   \n",
       "\n",
       "   block_production_offset  block_production_onset  ...  t_onset_RIDA  \\\n",
       "0                     0.17                    0.11  ...          0.05   \n",
       "\n",
       "   t_onset_dars2  t_onset_datA  time_step  total_conc_0  v_0  v_init_th  \\\n",
       "0           0.25          0.13     0.0001         400.0  0.5        1.0   \n",
       "\n",
       "   version_of_coupled_division_regulation  \\\n",
       "0                                  cooper   \n",
       "\n",
       "   version_of_independent_division_regulation  version_of_model  \n",
       "0                                         IDA        full_model  \n",
       "\n",
       "[1 rows x 91 columns]"
      ]
     },
     "execution_count": 6,
     "metadata": {},
     "output_type": "execute_result"
    }
   ],
   "source": [
    "data_frame = makeDataframe.make_dataframe(file_path)\n",
    "data_frame = data_frame.sort_values(by=['rate_growth'])\n",
    "\n",
    "time_traces_data_frame = pd.read_hdf(data_frame['path_dataset'].iloc[indx], key='dataset_time_traces')\n",
    "\n",
    "v_init_data_frame = pd.read_hdf(data_frame['path_dataset'].iloc[indx], key='dataset_init_events')\n",
    "v_init = v_init_data_frame.iloc[-1]['v_init_per_ori']\n",
    "v_init_per_ori = v_init_data_frame.iloc[-1]['v_init_per_ori']\n",
    "t_init_list = v_init_data_frame['t_init'].to_numpy()\n",
    "\n",
    "v_d_data_frame = pd.read_hdf(data_frame['path_dataset'].iloc[indx], key='dataset_div_events')\n",
    "data_frame"
   ]
  },
  {
   "cell_type": "code",
   "execution_count": 7,
   "metadata": {},
   "outputs": [
    {
     "name": "stdout",
     "output_type": "stream",
     "text": [
      "66667\n",
      "33975 53985\n",
      "[4.0641 4.7309 5.3975] [5.3975]\n",
      "[3.7307 3.7307 4.3973 4.3973 5.0641 5.0641]\n"
     ]
    }
   ],
   "source": [
    "time = np.array(time_traces_data_frame[\"time\"])\n",
    "volume = np.array(time_traces_data_frame[\"volume\"])\n",
    "n_ori = np.array(time_traces_data_frame[\"n_ori\"])\n",
    "active_conc = np.array(time_traces_data_frame[\"active_conc\"])\n",
    "total_conc = np.array(time_traces_data_frame[\"total_conc\"])\n",
    "active_fraction = active_conc / total_conc\n",
    "activation_potential = np.array(time_traces_data_frame[\"activation_potential\"])\n",
    "free_conc = np.array(time_traces_data_frame[\"free_conc\"])\n",
    "print(time.size)\n",
    "cycle_0 = 3\n",
    "cycle_f = cycle_0 + 3\n",
    "t_0 = time[volume==v_d_data_frame['v_b'][cycle_0]]\n",
    "indx_0 = np.where(time==t_0)[0][0]\n",
    "t_f = time[volume==v_d_data_frame['v_b'][cycle_f]]\n",
    "indx_f = np.where(time==t_f)[0][0]+10\n",
    "\n",
    "print(indx_0, indx_f)\n",
    "\n",
    "n_ori_cut = n_ori[indx_0:indx_f]\n",
    "time_cut = time[indx_0:indx_f]\n",
    "volume_cut = volume[indx_0:indx_f]\n",
    "active_fraction_cut = active_fraction[indx_0:indx_f]\n",
    "activation_potential_cut = activation_potential[indx_0:indx_f]\n",
    "free_conc_cut = free_conc[indx_0:indx_f]\n",
    "\n",
    "t_init_list_cut_1 = t_init_list[t_init_list>t_0]\n",
    "t_init_list_cut = t_init_list_cut_1[t_init_list_cut_1<t_f]\n",
    "\n",
    "t_b_list = np.array(v_d_data_frame['t_d'])\n",
    "\n",
    "t_b_cut_1 = t_b_list[t_b_list>t_0]\n",
    "# t_b = t_init_list_cut + data_frame.iloc[0]['t_CD']\n",
    "t_b_cut = t_b_cut_1[t_b_cut_1<=t_f]\n",
    "print(t_b_cut, t_f)\n",
    "print(t_init_list_cut)"
   ]
  },
  {
   "cell_type": "markdown",
   "metadata": {},
   "source": [
    "# Color definitions"
   ]
  },
  {
   "cell_type": "code",
   "execution_count": 13,
   "metadata": {},
   "outputs": [],
   "source": [
    "pinkish_red = (247 / 255, 109 / 255, 109 / 255)\n",
    "green = (0 / 255, 133 / 255, 86 / 255)\n",
    "dark_blue = (36 / 255, 49 / 255, 94 / 255)\n",
    "light_blue = (168 / 255, 209 / 255, 231 / 255)\n",
    "darker_light_blue = (112 / 255, 157 / 255, 182 / 255)\n",
    "blue = (55 / 255, 71 / 255, 133 / 255)\n",
    "yellow = (247 / 255, 233 / 255, 160 / 255)"
   ]
  },
  {
   "cell_type": "markdown",
   "metadata": {},
   "source": [
    "# Plot three figures"
   ]
  },
  {
   "cell_type": "code",
   "execution_count": 14,
   "metadata": {},
   "outputs": [
    {
     "name": "stdout",
     "output_type": "stream",
     "text": [
      "1.5\n",
      "number of titration sites per origin: 300.0\n"
     ]
    },
    {
     "data": {
      "image/png": "[encoded data removed]",
      "text/plain": [
       "<Figure size 230.4x288 with 4 Axes>"
      ]
     },
     "metadata": {
      "needs_background": "light"
     },
     "output_type": "display_data"
    }
   ],
   "source": [
    "label_list = [r'$V(t)$', r'$[D]_{\\rm T, f}(t)$', r'$f(t)$', r'$[D]_{\\rm ATP, f}(t)$']\n",
    "x_axes_list = [time_cut, time_cut, time_cut, time_cut]\n",
    "y_axes_list = [volume_cut, free_conc_cut, active_fraction_cut, activation_potential_cut]\n",
    "legend_list = [' ', ' ',' ', ' ']\n",
    "color_list = [green, dark_blue, darker_light_blue, pinkish_red]\n",
    "fig, ax = plt.subplots(4, figsize=(3.2,4))\n",
    "plt.xlabel(r'time [$\\tau_{\\rm d}$]')\n",
    "y_min_list = [0,0,0,0]\n",
    "y_max_list = [1, 1.2, 1.2, 1.2]\n",
    "\n",
    "doubling_time = 1/data_frame.iloc[indx]['doubling_rate']\n",
    "print(1/doubling_time)\n",
    "print('number of titration sites per origin:', data_frame.iloc[indx]['n_c_max_0'])\n",
    "for item in range(0, len(label_list)):\n",
    "    ax[item].set_ylabel(label_list[item])\n",
    "    ax[item].plot(x_axes_list[item], y_axes_list[item], color=color_list[item])\n",
    "    ax[item].set_ylim(ymin=0)\n",
    "    ax[item].tick_params(\n",
    "        axis='x',          # changes apply to the x-axis\n",
    "        which='both',      # both major and minor ticks are affected\n",
    "        bottom=False,      # ticks along the bottom edge are off\n",
    "        top=False,         # ticks along the top edge are off\n",
    "        labelbottom=False) # labels along the bottom edge are off\n",
    "    ax[item].spines[\"top\"].set_visible(False)\n",
    "    ax[item].spines[\"right\"].set_visible(False)\n",
    "    ax[item].margins(0)\n",
    "    for t_div in t_b_cut:\n",
    "        ax[item].axvline(x=t_div, \n",
    "                          ymin=y_min_list[item],\n",
    "                          ymax=y_max_list[item],\n",
    "                             c=\"black\",\n",
    "                          zorder=0, \n",
    "                          linewidth=0.8,\n",
    "                          clip_on=False)\n",
    "    for t_init in t_init_list_cut:\n",
    "        ax[item].axvline(x=t_init, \n",
    "                          ymin=y_min_list[item],\n",
    "                          ymax=y_max_list[item],\n",
    "                             c=\"black\",\n",
    "                          zorder=0, \n",
    "                          linewidth=0.8,\n",
    "                          linestyle='--',\n",
    "                          clip_on=False)\n",
    "        ax[item].axvspan(t_init, \n",
    "                 t_init + data_frame.iloc[0]['period_blocked'], \n",
    "                  ymin=y_min_list[item],\n",
    "                  ymax=y_max_list[item],\n",
    "                 alpha=0.3, \n",
    "                 color=light_blue, \n",
    "                 linewidth=0.8,\n",
    "                 clip_on=False)\n",
    "#         ax[item].axvspan(t_init, \n",
    "#                  t_init + data_frame.iloc[0]['t_doubling_datA'], \n",
    "#                   ymin=y_min_list[item],\n",
    "#                   ymax=y_max_list[item],\n",
    "#                  alpha=0.3, \n",
    "#                  color='grey', \n",
    "#                  linewidth=0.8,\n",
    "#                  clip_on=False)\n",
    "        \n",
    "ax[3].tick_params(bottom=True, labelbottom=True)\n",
    "ax[3].tick_params(axis='x', colors='black')\n",
    "ax[3].set_xticks([time_cut[0], \n",
    "                  time_cut[0]+ doubling_time, \n",
    "                  time_cut[0]+ 2*doubling_time, \n",
    "                  time_cut[0]+ 3*doubling_time\n",
    "                 ])\n",
    "ax[3].set_xticklabels(['0', '1', '2', '3'])\n",
    "fig.align_ylabels()\n",
    "plt.savefig(file_path + '/Example_time_trace_'+model+'.pdf', format='pdf',bbox_inches='tight')"
   ]
  },
  {
   "cell_type": "code",
   "execution_count": null,
   "metadata": {},
   "outputs": [],
   "source": []
  },
  {
   "cell_type": "code",
   "execution_count": null,
   "metadata": {},
   "outputs": [],
   "source": []
  },
  {
   "cell_type": "code",
   "execution_count": null,
   "metadata": {},
   "outputs": [],
   "source": []
  }
 ],
 "metadata": {
  "kernelspec": {
   "display_name": "Python 3",
   "language": "python",
   "name": "python3"
  },
  "language_info": {
   "codemirror_mode": {
    "name": "ipython",
    "version": 3
   },
   "file_extension": ".py",
   "mimetype": "text/x-python",
   "name": "python",
   "nbconvert_exporter": "python",
   "pygments_lexer": "ipython3",
   "version": "3.7.3"
  }
 },
 "nbformat": 4,
 "nbformat_minor": 2
}
