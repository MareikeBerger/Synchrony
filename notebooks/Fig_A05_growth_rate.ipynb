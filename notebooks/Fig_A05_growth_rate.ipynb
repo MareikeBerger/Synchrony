{
 "cells": [
  {
   "cell_type": "code",
   "execution_count": 1,
   "metadata": {},
   "outputs": [],
   "source": [
    "import numpy as np\n",
    "import pandas as pd\n",
    "import os\n",
    "import seaborn as sns\n",
    "import matplotlib.pyplot as plt\n",
    "import scipy.integrate as integrate\n",
    "import random\n",
    "\n",
    "import synchrony.PlottingTools as plottingTools\n",
    "from synchrony.ParameterSet import ParameterSet\n",
    "import synchrony.DataStorage as dataStorage\n",
    "import synchrony.DataAnalysis as dataAnalysis\n",
    "import synchrony.MakeDataframe as makeDataframe\n",
    "from synchrony import mainClass"
   ]
  },
  {
   "cell_type": "code",
   "execution_count": 2,
   "metadata": {},
   "outputs": [
    {
     "name": "stdout",
     "output_type": "stream",
     "text": [
      "file_path /home/berger/Data/Synchrony/Paper/Fig_A05\n",
      "parameter_path /home/berger/Data/Synchrony/Paper/Fig_A05/parameter_set.csv\n"
     ]
    }
   ],
   "source": [
    "file_path_input_params_json = '../input_params.json'\n",
    "input_param_dict = mainClass.extract_variables_from_input_params_json(file_path_input_params_json)\n",
    "root_path = input_param_dict[\"DATA_FOLDER_PATH\"]\n",
    "simulation_location = 'Paper/Fig_A05'#'Thesis/X_Appendix/A3_growth_rate' '/home/berger/Data/Synchrony/NotebookData/Tests/Fraction_synchronised_hill/LD_model/new_params'\n",
    "file_path = os.path.join(root_path, simulation_location)\n",
    "print('file_path', file_path)\n",
    "parameter_path = os.path.join(file_path, 'parameter_set.csv')\n",
    "print('parameter_path', parameter_path)"
   ]
  },
  {
   "cell_type": "code",
   "execution_count": 3,
   "metadata": {},
   "outputs": [],
   "source": [
    "pinkish_red = (247 / 255, 109 / 255, 109 / 255)\n",
    "green = (0 / 255, 133 / 255, 86 / 255)\n",
    "dark_blue = (36 / 255, 49 / 255, 94 / 255)\n",
    "light_blue = (168 / 255, 209 / 255, 231 / 255)\n",
    "blue = (55 / 255, 71 / 255, 133 / 255)\n",
    "yellow = (247 / 255, 233 / 255, 160 / 255)"
   ]
  },
  {
   "cell_type": "markdown",
   "metadata": {},
   "source": [
    "# Make the data frame"
   ]
  },
  {
   "cell_type": "code",
   "execution_count": 4,
   "metadata": {},
   "outputs": [
    {
     "name": "stdout",
     "output_type": "stream",
     "text": [
      "['/home/berger/Data/Synchrony/Paper/Fig_A05/fig_A3.pdf',\n",
      " '/home/berger/Data/Synchrony/Paper/Fig_A05/8427_A1_vary_growth_rate']\n"
     ]
    }
   ],
   "source": [
    "data_frame = makeDataframe.make_dataframe(file_path)\n",
    "# data_frame = makeDataframe.add_average_values_to_df(data_frame)\n",
    "# data_frame"
   ]
  },
  {
   "cell_type": "markdown",
   "metadata": {},
   "source": [
    "# Calculate degree of synchronisation"
   ]
  },
  {
   "cell_type": "code",
   "execution_count": 6,
   "metadata": {},
   "outputs": [],
   "source": [
    "def fraction_initiated_origins_per_cascade(initiation_times, n_ori_init, row):\n",
    "    cascade_event_list = []\n",
    "    new_cluster = 1\n",
    "    n_ori = 1\n",
    "    n_steps_extra = 800 # time added to delay time for maximal duration of one cascade\n",
    "    for indx in range(0, initiation_times.size):\n",
    "#         print(indx)\n",
    "        if new_cluster == 1:\n",
    "            count = 1\n",
    "            t_max = initiation_times[indx] + row.t_doubling_datA + n_steps_extra * row.time_step\n",
    "            n_ori = n_ori_init[indx]\n",
    "            new_cluster = 0\n",
    "        else:\n",
    "            if initiation_times[indx] <= t_max:\n",
    "                count = count + 1\n",
    "            else:\n",
    "#                 if row.site_datA == 0.24:\n",
    "#                     print('fraction of origins initiated:', count, n_ori, count/ n_ori)\n",
    "                cascade_event_list.append(count/ n_ori)\n",
    "                count = 1\n",
    "                t_max = initiation_times[indx] +  row.t_doubling_datA + n_steps_extra * row.time_step\n",
    "                n_ori = n_ori_init[indx]\n",
    "#     print(row.sub_simu_name, cascade_event_list)   \n",
    "#     print('init times:', np.array(initiation_times))\n",
    "    return cascade_event_list\n",
    "\n",
    "def mean_and_var_of_fraction_initiated_origins_per_cascade(row):\n",
    "    data_frame_init = pd.read_hdf(row.path_dataset, key='dataset_init_events')\n",
    "    initiation_times = data_frame_init['t_init']\n",
    "    n_ori_init = data_frame_init['n_ori_init']\n",
    "    fract_init_origins_per_cascade = fraction_initiated_origins_per_cascade(initiation_times, n_ori_init,  row)\n",
    "    return np.mean(fract_init_origins_per_cascade), np.var(fract_init_origins_per_cascade)\n",
    "\n",
    "def degree_synch(row):\n",
    "    degree_synch, variance_synch = mean_and_var_of_fraction_initiated_origins_per_cascade(row)\n",
    "    return degree_synch\n",
    "\n",
    "def variance_synch(row):\n",
    "    degree_synch, variance_synch = mean_and_var_of_fraction_initiated_origins_per_cascade(row)\n",
    "    return variance_synch\n",
    "\n",
    "\n",
    "data_frame.loc[:, 'degree_synch'] = data_frame.apply(lambda row: degree_synch(row), axis = 1)\n",
    "data_frame.loc[:, 'variance_synch'] = data_frame.apply(lambda row: variance_synch(row), axis = 1)"
   ]
  },
  {
   "cell_type": "markdown",
   "metadata": {},
   "source": [
    "# Comparison to theory"
   ]
  },
  {
   "cell_type": "code",
   "execution_count": 7,
   "metadata": {},
   "outputs": [],
   "source": [
    "def integrand_prob_two_events(t1, growth_rate_, v_init_, V_b_, n_, firing_rate_0_, delta_t):\n",
    "    vol_t1 = V_b_ * np.exp(growth_rate_ * t1)\n",
    "    vol_t1_delay = V_b_ * np.exp(growth_rate_ * (t1+ delta_t))\n",
    "    prefactor = 2 * firing_rate_0_ * vol_t1**n_/(vol_t1**n_ + v_init_**n_)\n",
    "    exponential = np.exp(-np.log((vol_t1_delay**n_ + v_init_**n_)/(V_b_**n_ + v_init_**n_))/(growth_rate_ * n_)*2* firing_rate_0_)\n",
    "    return prefactor * exponential\n",
    "\n",
    "def integrate_two_events(growth_rate, v_init, V_b, effective_hill_coeff, firing_rate_0, delta_t):\n",
    "    integrate.quad(lambda x: integrand_prob_two_events(x,\n",
    "                                                   growth_rate, \n",
    "                                                   v_init, \n",
    "                                                   V_b, \n",
    "                                                   effective_hill_coeff, \n",
    "                                                   firing_rate_0, delta_t) , 0,  5)[0]\n",
    "    \n",
    "def calculate_fraction_from_prob(row):\n",
    "    return row.theoretical_prediction + (1-row.theoretical_prediction)* 0.5\n",
    "\n",
    "def calculate_fraction_from_prob_simu(row):\n",
    "    return row.simu_prob + (1-row.simu_prob)* 0.5"
   ]
  },
  {
   "cell_type": "code",
   "execution_count": 8,
   "metadata": {},
   "outputs": [
    {
     "name": "stderr",
     "output_type": "stream",
     "text": [
      "/home/berger/.virtualenvs/synchrony_project/lib/python3.7/site-packages/ipykernel_launcher.py:4: RuntimeWarning: overflow encountered in double_scalars\n",
      "  after removing the cwd from sys.path.\n",
      "/home/berger/.virtualenvs/synchrony_project/lib/python3.7/site-packages/ipykernel_launcher.py:4: RuntimeWarning: invalid value encountered in double_scalars\n",
      "  after removing the cwd from sys.path.\n",
      "/home/berger/.virtualenvs/synchrony_project/lib/python3.7/site-packages/ipykernel_launcher.py:5: RuntimeWarning: overflow encountered in double_scalars\n",
      "  \"\"\"\n",
      "/home/berger/.virtualenvs/synchrony_project/lib/python3.7/site-packages/ipykernel_launcher.py:6: RuntimeWarning: invalid value encountered in double_scalars\n",
      "  \n",
      "/home/berger/.virtualenvs/synchrony_project/lib/python3.7/site-packages/ipykernel_launcher.py:7: IntegrationWarning: The maximum number of subdivisions (50) has been achieved.\n",
      "  If increasing the limit yields no improvement it is advised to analyze \n",
      "  the integrand in order to determine the difficulties.  If the position of a \n",
      "  local difficulty can be determined (singularity, discontinuity) one will \n",
      "  probably gain from splitting up the interval and calling the integrator \n",
      "  on the subranges.  Perhaps a special-purpose integrator should be used.\n",
      "  import sys\n"
     ]
    }
   ],
   "source": [
    "data_frame.loc[:, 'theoretical_prediction'] = data_frame.apply(lambda row: 1-integrate.quad(lambda x: integrand_prob_two_events(x,\n",
    "                                                                                               row.rate_growth,\n",
    "                                                                                               row.v_init_th,\n",
    "                                                                                               0.01,\n",
    "                                                                                               row.hill_activation_potential * row.hill_origin_opening /2, \n",
    "                                                                                               row.origin_firing_rate,\n",
    "                                                                                               row.t_doubling_datA) , 0,  13)[0], axis = 1)\n",
    "# data_frame.theoretical_prediction"
   ]
  },
  {
   "cell_type": "markdown",
   "metadata": {},
   "source": [
    "# Comparison to simple simulation"
   ]
  },
  {
   "cell_type": "code",
   "execution_count": 9,
   "metadata": {},
   "outputs": [],
   "source": [
    "def calculate_approx_opening_prob_of_time(t, rate_growth, v_birth, hill_coeff_eff, crit_vol):\n",
    "    vol= v_birth * np.exp(rate_growth*t)\n",
    "    return vol**hill_coeff_eff/(vol**hill_coeff_eff+ crit_vol**hill_coeff_eff)\n",
    "\n",
    "def calculate_whether_initiate(rate, time_step):\n",
    "    prob = rate * time_step\n",
    "    random_number = random.random()\n",
    "    return prob >= random_number\n",
    "\n",
    "def make_list_intervals(t_max, time_step, rate_growth, v_birth, hill_coeff_eff, crit_vol, firing_rate_0):\n",
    "    n_simu = 1000\n",
    "    list_t_init_tupel = []\n",
    "    time = np.arange(0, t_max, time_step)\n",
    "#     print(time)\n",
    "    approx_opening_probability_of_time = calculate_approx_opening_prob_of_time(time, rate_growth, v_birth, hill_coeff_eff, crit_vol)\n",
    "    for simu_i in range(0, n_simu):\n",
    "        init_events = []\n",
    "        n_events = 0\n",
    "        for n_step in range(1, time.size): # start at one because 0 is the initial condition\n",
    "            if calculate_whether_initiate(firing_rate_0 * approx_opening_probability_of_time[n_step], time_step):\n",
    "                init_events.append(time[n_step])\n",
    "#                 print('init event happened')\n",
    "                n_events = n_events + 1\n",
    "                if n_events >=2:\n",
    "                    break\n",
    "        list_t_init_tupel.append(init_events)\n",
    "    delta_t = [item[1]-item[0] for item in list_t_init_tupel]\n",
    "    return delta_t\n",
    "\n",
    "def calculate_fraction_intervals_smaller_than_x(intervalls, x):\n",
    "    intervalls = np.array(intervalls)\n",
    "    smaller = intervalls[intervalls<x]\n",
    "    return smaller.size / intervalls.size\n",
    "\n"
   ]
  },
  {
   "cell_type": "code",
   "execution_count": 10,
   "metadata": {},
   "outputs": [],
   "source": [
    "list_of_hill_coeffs = data_frame['hill_origin_opening'].unique()\n",
    "cache_delta_t = {}\n",
    "for item in list_of_hill_coeffs:\n",
    "    data_frame_item = data_frame.loc[data_frame['hill_origin_opening']==item]\n",
    "#     print(data_frame_item['time_step'].iloc[0])\n",
    "    delta_t = make_list_intervals(10, \n",
    "                                  data_frame_item['time_step'].iloc[0], \n",
    "                                  data_frame_item['rate_growth'].iloc[0],\n",
    "                                  0.5,\n",
    "                                  data_frame_item['hill_origin_opening'].iloc[0] * data_frame_item['hill_activation_potential'].iloc[0] /2,\n",
    "                                  data_frame_item['v_init_th'].iloc[0],\n",
    "                                  data_frame_item['origin_firing_rate'].iloc[0]\n",
    "                                 )\n",
    "#     print(delta_t)\n",
    "    cache_delta_t[item]= delta_t"
   ]
  },
  {
   "cell_type": "code",
   "execution_count": 11,
   "metadata": {},
   "outputs": [],
   "source": [
    "\n",
    "data_frame.loc[:, 'simu_prob'] = data_frame.apply(lambda row: calculate_fraction_intervals_smaller_than_x(cache_delta_t[row.hill_origin_opening], row.t_doubling_datA), axis = 1)    "
   ]
  },
  {
   "cell_type": "code",
   "execution_count": 12,
   "metadata": {},
   "outputs": [],
   "source": [
    "\n",
    "data_frame.loc[:, 'th_deg_synch'] = data_frame.apply(lambda row: calculate_fraction_from_prob(row), axis = 1)\n",
    "\n",
    "data_frame.loc[:, 'simu_deg_synch'] = data_frame.apply(lambda row: calculate_fraction_from_prob_simu(row), axis = 1)"
   ]
  },
  {
   "cell_type": "markdown",
   "metadata": {},
   "source": [
    "# Make Legend"
   ]
  },
  {
   "cell_type": "code",
   "execution_count": 13,
   "metadata": {},
   "outputs": [],
   "source": [
    "def make_hill_coeff_legend(hill_activation_potential, hill_origin_opening):\n",
    "    return r'$n_{{\\rm eff}}={}$'.format(int(hill_activation_potential*hill_origin_opening/2))\n",
    "\n",
    "def make_deactivation_rate_legend(deactivation_rate_datA):\n",
    "    return r'$\\beta_{{datA}}={}$ min$^{{-1}}$'.format(int(deactivation_rate_datA/60))\n",
    "\n",
    "def make_mich_menten_legend(michaelis_const_deact):\n",
    "    return r'$K_{{D}}={} \\, \\mu$m$^{{-3}}$'.format(int(michaelis_const_deact))\n",
    "\n",
    "def make_doubling_time_legend(doubling_rate):\n",
    "    return r'$\\tau_{{d}}={}$ min'.format(int(np.round(60/doubling_rate,0)))\n",
    "    \n",
    "data_frame.loc[:, 'Hill coefficients:'] = data_frame.apply(lambda row: make_hill_coeff_legend(row.hill_activation_potential, row.hill_origin_opening), axis = 1)\n",
    "  \n",
    "data_frame.loc[:, 'deactivation rate:'] = data_frame.apply(lambda row: make_deactivation_rate_legend(row.deactivation_rate_datA), axis = 1)\n",
    "\n",
    "data_frame.loc[:, 'Dissociation constant:'] = data_frame.apply(lambda row: make_mich_menten_legend(row.michaelis_const_deact), axis = 1)\n",
    "\n",
    "data_frame.loc[:, 'Doubling time:'] = data_frame.apply(lambda row: make_doubling_time_legend(row.doubling_rate), axis = 1)"
   ]
  },
  {
   "cell_type": "markdown",
   "metadata": {},
   "source": [
    "# Plot fraction that is synchronised"
   ]
  },
  {
   "cell_type": "code",
   "execution_count": 14,
   "metadata": {},
   "outputs": [
    {
     "data": {
      "image/png": "[encoded data removed]",
      "text/plain": [
       "<Figure size 504x504 with 1 Axes>"
      ]
     },
     "metadata": {},
     "output_type": "display_data"
    }
   ],
   "source": [
    "sns.set(style=\"ticks\")\n",
    "sns.set_context(\"poster\")\n",
    "palette='BuPu'\n",
    "\n",
    "data_frame_sorted = data_frame.sort_values(by=[\"hill_activation_potential\"], ascending=True)\n",
    "fig, ax = plt.subplots(figsize=(7,7))\n",
    "ax.set(xlabel=r'$\\tau_{\\rm l}$ [h]', ylabel=r'$\\langle s \\rangle$')\n",
    "sns.lineplot(\n",
    "    x='t_doubling_datA', \n",
    "    y='degree_synch',\n",
    "    data=data_frame_sorted.sort_values(by=[\"doubling_rate\"], ascending=False),\n",
    "    hue='Doubling time:',\n",
    "#     hue='deactivation rate:',\n",
    "#     dashes=[(4, 1), ''],\n",
    "#     markers=True,\n",
    "    palette= palette,\n",
    "#     style='theoretical_prediction',\n",
    "    linewidth = 3.5,\n",
    "    ax=ax\n",
    ");\n",
    "\n",
    "# sns.lineplot(\n",
    "#     x='t_doubling_datA', \n",
    "#     y='th_deg_synch',\n",
    "#     data=data_frame_sorted.sort_values(by=[\"doubling_rate\"], ascending=False),\n",
    "#     hue='doubling_rate',\n",
    "# #     hue='deactivation rate:',\n",
    "#     linestyle=\"dashed\",\n",
    "#     markers=True,\n",
    "#     palette= palette,\n",
    "# #     style='theoretical_prediction',\n",
    "#     linewidth = 3.5,\n",
    "#     legend = False,\n",
    "#     ax=ax\n",
    "# );\n",
    "\n",
    "ax.margins(0)\n",
    "\n",
    "# ax.axhline(y=1, color='grey', linestyle='dotted')\n",
    "# ax.axhline(y=0.5, color=green, linestyle='--')\n",
    "# ax.axvline(x=(data_frame[\"period_blocked\"][0]), color='grey', linestyle='dotted')\n",
    "# ax.set(ylim=(0.5, 1))\n",
    "ax.set_xticks([0,0.05, 0.1, 0.15, 0.2])\n",
    "ax.set_xticklabels([r'0',r'0.05', r'0.01', r'0.15', r'0.2'])\n",
    "ax.tick_params(direction='out', length=6, width=2, grid_alpha=0.5)\n",
    "handles, labels = ax.get_legend_handles_labels()\n",
    "ax.legend(handles=handles[0:], labels=labels[0:])\n",
    "# ax.legend(bbox_to_anchor=(1, 1))\n",
    "plt.savefig(file_path + '/fig_A3.pdf', format='pdf', bbox_inches='tight')"
   ]
  },
  {
   "cell_type": "code",
   "execution_count": null,
   "metadata": {},
   "outputs": [],
   "source": []
  },
  {
   "cell_type": "code",
   "execution_count": null,
   "metadata": {},
   "outputs": [],
   "source": []
  }
 ],
 "metadata": {
  "kernelspec": {
   "display_name": "synchrony_project",
   "language": "python",
   "name": "synchrony_project"
  },
  "language_info": {
   "codemirror_mode": {
    "name": "ipython",
    "version": 3
   },
   "file_extension": ".py",
   "mimetype": "text/x-python",
   "name": "python",
   "nbconvert_exporter": "python",
   "pygments_lexer": "ipython3",
   "version": "3.7.3"
  }
 },
 "nbformat": 4,
 "nbformat_minor": 2
}
