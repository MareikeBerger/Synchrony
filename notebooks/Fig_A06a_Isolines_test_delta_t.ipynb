{
 "cells": [
  {
   "cell_type": "code",
   "execution_count": 2,
   "metadata": {},
   "outputs": [],
   "source": [
    "import numpy as np\n",
    "import pandas as pd\n",
    "import os\n",
    "import seaborn as sns\n",
    "import matplotlib.pyplot as plt\n",
    "import scipy.integrate as integrate\n",
    "import random\n",
    "\n",
    "import synchrony.PlottingTools as plottingTools\n",
    "from synchrony.ParameterSet import ParameterSet\n",
    "import synchrony.DataStorage as dataStorage\n",
    "import synchrony.DataAnalysis as dataAnalysis\n",
    "import synchrony.MakeDataframe as makeDataframe\n",
    "from synchrony import mainClass"
   ]
  },
  {
   "cell_type": "code",
   "execution_count": 3,
   "metadata": {},
   "outputs": [
    {
     "name": "stdout",
     "output_type": "stream",
     "text": [
      "file_path /home/berger/Data/Synchrony/Paper/Fig_A06\n",
      "parameter_path /home/berger/Data/Synchrony/Paper/Fig_A06/parameter_set.csv\n"
     ]
    }
   ],
   "source": [
    "file_path_input_params_json = '../input_params.json'\n",
    "input_param_dict = mainClass.extract_variables_from_input_params_json(file_path_input_params_json)\n",
    "root_path = input_param_dict[\"DATA_FOLDER_PATH\"]\n",
    "simulation_location = 'Paper/Fig_A06' #'Paper/X_Appendix/A4_higher_firing_rate/A4c' or 'Paper/Fig_4/Fig_4bc'\n",
    "file_path = os.path.join(root_path, simulation_location)\n",
    "print('file_path', file_path)\n",
    "parameter_path = os.path.join(file_path, 'parameter_set.csv')\n",
    "print('parameter_path', parameter_path)"
   ]
  },
  {
   "cell_type": "code",
   "execution_count": 4,
   "metadata": {},
   "outputs": [],
   "source": [
    "pinkish_red = (247 / 255, 109 / 255, 109 / 255)\n",
    "green = (0 / 255, 133 / 255, 86 / 255)\n",
    "dark_blue = (36 / 255, 49 / 255, 94 / 255)\n",
    "light_blue = (168 / 255, 209 / 255, 231 / 255)\n",
    "blue = (55 / 255, 71 / 255, 133 / 255)\n",
    "yellow = (247 / 255, 233 / 255, 160 / 255)"
   ]
  },
  {
   "cell_type": "code",
   "execution_count": 5,
   "metadata": {},
   "outputs": [],
   "source": [
    "def calculate_av_V_b_th(v_init, growth_rate, T_CC):\n",
    "    return v_init/2 * np.exp(growth_rate* T_CC)\n",
    "\n",
    "def calculate_av_number_origins_at_birth(doubling_time, T_CC):\n",
    "    # this function determines the average number of origins present at birth (depends on relative length of TCC and the doubling time)\n",
    "    ratio = T_CC / doubling_time\n",
    "    conditions = [(ratio<1), (ratio>=1)&(ratio<2), (ratio>=2)&(ratio<3), (ratio>=3)&(ratio<4)]\n",
    "    choiceX = [1, 2, 4, 8]\n",
    "    n_ori_b = np.select(conditions, choiceX)\n",
    "    return n_ori_b\n",
    "\n",
    "def calcuate_max_rate_given_n_eff(n, growth_rate, v_init, v_b):\n",
    "        return n*growth_rate * np.log(2)/np.log((2 * v_init**n)/(v_b**n+v_init**n))"
   ]
  },
  {
   "cell_type": "code",
   "execution_count": 6,
   "metadata": {},
   "outputs": [],
   "source": [
    "doubling_rate = 1.5\n",
    "growth_rate = np.log(2) * doubling_rate\n",
    "v_init = 1\n",
    "n_eff = np.arange(10, 50, 2)\n",
    "k_max =  np.arange(10, 50, 2)\n",
    "t_cc = 1\n",
    "delay_max = 0.16\n",
    "v_b = calculate_av_V_b_th(v_init, growth_rate, t_cc)\n",
    "n_ori_birth = calculate_av_number_origins_at_birth(1/doubling_rate, t_cc)\n",
    "v_b_per_ori = 0.4 #v_b/n_ori_birth\n",
    "t_max = 15"
   ]
  },
  {
   "cell_type": "code",
   "execution_count": 7,
   "metadata": {},
   "outputs": [
    {
     "name": "stdout",
     "output_type": "stream",
     "text": [
      "[10 12 14 16 18 20 22 24 26 28 30 32 34 36 38 40 42 44 46 48] [10 12 14 16 18 20 22 24 26 28 30 32 34 36 38 40 42 44 46 48] 0.4\n"
     ]
    }
   ],
   "source": [
    "print(n_eff, k_max, v_b_per_ori)"
   ]
  },
  {
   "cell_type": "markdown",
   "metadata": {},
   "source": [
    "# Make data frame"
   ]
  },
  {
   "cell_type": "code",
   "execution_count": 8,
   "metadata": {},
   "outputs": [],
   "source": [
    "def make_two_parameter_arrays_given_two_arrays(np_array1, np_array2):\n",
    "    new_np_array1 = np.array([])\n",
    "    new_np_array2 = np.array([])\n",
    "    for idx, value in enumerate(np_array1):\n",
    "        new_np_array1 = np.append(new_np_array1, np.ones(np_array2.size)* value)\n",
    "        new_np_array2 = np.append(new_np_array2, np_array2)\n",
    "    return new_np_array1, new_np_array2"
   ]
  },
  {
   "cell_type": "code",
   "execution_count": 9,
   "metadata": {},
   "outputs": [],
   "source": [
    "n_eff_long, k_max_long = make_two_parameter_arrays_given_two_arrays(n_eff, k_max)\n",
    "data_frame = pd.DataFrame.from_dict({'n_eff': n_eff_long, 'k_max': k_max_long})"
   ]
  },
  {
   "cell_type": "markdown",
   "metadata": {},
   "source": [
    "# Functions"
   ]
  },
  {
   "cell_type": "code",
   "execution_count": 9,
   "metadata": {},
   "outputs": [],
   "source": [
    "def integrand_prob_two_events_new(t1, growth_rate_, v_init_, V_b_, n_, firing_rate_0_, delta_t):\n",
    "    vol_t1 = V_b_ * np.exp(growth_rate_ * t1)\n",
    "    vol_t1_delay = V_b_ * np.exp(growth_rate_ * (t1+ delta_t))\n",
    "    prefactor = 2 * firing_rate_0_ * vol_t1**n_/(vol_t1**n_ + v_init_**n_)\n",
    "    exponential = ((vol_t1_delay**n_ + v_init_**n_) * (vol_t1**n_ + v_init_**n_)/(V_b_**n_ + v_init_**n_)**2)**(-firing_rate_0_/(growth_rate_ * n_))\n",
    "    return prefactor * exponential\n",
    "\n",
    "def waiting_time_dist_indef(time_, growth_rate_, effective_hill_coeff_, v_init_, V_b_, firing_rate_0_):\n",
    "    vol = V_b_ * np.exp(growth_rate_* time_)\n",
    "    prefactor = firing_rate_0_ * vol**effective_hill_coeff_ / (vol**effective_hill_coeff_ + v_init_**effective_hill_coeff_ )\n",
    "    return prefactor * calculate_survival_probability_indefinite(time_, \n",
    "                                                                 growth_rate_, \n",
    "                                                                 effective_hill_coeff_, \n",
    "                                                                 v_init_, \n",
    "                                                                 V_b_,\n",
    "                                                                 firing_rate_0_)\n",
    "\n",
    "def calculate_survival_probability_indefinite(time_, growth_rate_, effective_hill_coeff_, v_init_, V_b_, firing_rate_0_):\n",
    "    return np.exp(- firing_rate_0_ / (growth_rate_ * effective_hill_coeff_) \n",
    "                  * np.log(v_init_**effective_hill_coeff_ + (V_b_ * np.exp(growth_rate_ * time_))**effective_hill_coeff_))\n",
    "\n",
    "def integrand_mean(time, growth_rate_, v_init_, V_b_, n_, rate):\n",
    "    return waiting_time_dist_indef(time, growth_rate_, n_, v_init_, V_b_, rate) * (V_b_ * np.exp(growth_rate_ * time))\n",
    "\n",
    "def calculate_mean_theoretical(growth_rate_, v_init_, V_b_, n_, rate, t_d_):\n",
    "    result = integrate.quad(lambda x: integrand_mean(x, growth_rate_, v_init_, V_b_, n_, rate), 0, t_d_)\n",
    "    return result\n",
    "\n",
    "def calculate_fraction_from_prob(prob):\n",
    "    return prob + (1-prob)* 0.5"
   ]
  },
  {
   "cell_type": "code",
   "execution_count": 14,
   "metadata": {},
   "outputs": [],
   "source": [
    "def calculate_survival_probability_definite(time_, t_0_, growth_rate_, effective_hill_coeff_, v_init_, V_b_, firing_rate_0_):\n",
    "    return np.exp(- firing_rate_0_ / (growth_rate_ * effective_hill_coeff_) \n",
    "                  * np.log((v_init_**effective_hill_coeff_ + (V_b_ * np.exp(growth_rate_ * time_))**effective_hill_coeff_)/(v_init_**effective_hill_coeff_ + (V_b_ * np.exp(growth_rate_ * t_0_))**effective_hill_coeff_)))\n",
    "\n",
    "\n",
    "\n",
    "def w_t_indef(time_, t_0_, growth_rate_, effective_hill_coeff_, v_init_, V_b_, firing_rate_0_):\n",
    "    vol = V_b_ * np.exp(growth_rate_* time_)\n",
    "    prefactor = firing_rate_0_ * vol**effective_hill_coeff_ / (vol**effective_hill_coeff_ + v_init_**effective_hill_coeff_ )\n",
    "    return prefactor * calculate_survival_probability_definite(time_, \n",
    "                                                                 t_0_,\n",
    "                                                                 growth_rate_, \n",
    "                                                                 effective_hill_coeff_, \n",
    "                                                                 v_init_, \n",
    "                                                                 V_b_,\n",
    "                                                                 firing_rate_0_)\n",
    "\n",
    "def double_integrate_two_events(growth_rate_, v_init_, V_b_, n_, rate, t_d_):\n",
    "    f = lambda t2, t1, growth_rate, v_init, V_b, n, k_0: w_t_indef(t1, 0, growth_rate, n, v_init, V_b, rate) * w_t_indef(t2, 0,  growth_rate, n, v_init, V_b, rate) * abs(t1-t2)\n",
    "    #factor(growth_rate, v_init, V_b, n, 2 * k_0, t1) * factor(growth_rate, v_init, V_b, n, k_0, t2) * (t2-t1)\n",
    "    return integrate.dblquad(f, 0, t_d_, 0, t_d_, args=(growth_rate_, \n",
    "                                                         v_init_, \n",
    "                                                         V_b_, \n",
    "                                                         n_, \n",
    "                                                         rate,))[0]"
   ]
  },
  {
   "cell_type": "code",
   "execution_count": 15,
   "metadata": {},
   "outputs": [],
   "source": [
    "# data_frame.loc[:, 'theoretical_prediction'] = data_frame.apply(lambda row: 1-integrate.quad(lambda x: integrand_prob_two_events_new(x,\n",
    "#                                                                                                growth_rate,\n",
    "#                                                                                                v_init,\n",
    "#                                                                                                v_b_per_ori,\n",
    "#                                                                                                row.n_eff, \n",
    "#                                                                                                row.k_max,\n",
    "#                                                                                                delay_max) , 0,  13)[0], axis = 1)\n",
    "\n",
    "# data_frame.loc[:, 'th_deg_synch'] = data_frame.apply(lambda row: calculate_fraction_from_prob(row.theoretical_prediction), axis = 1)\n",
    "\n",
    "# # data_frame.loc[:, 'theoretical_mean'] = data_frame.apply(lambda row: calculate_mean_theoretical(growth_rate,\n",
    "# #                                   v_init,\n",
    "# #                                   v_b_per_ori,\n",
    "# #                                   row.n_eff,\n",
    "# #                                   row.k_max,\n",
    "# #                                   t_max\n",
    "# #                                  )[0], axis = 1)"
   ]
  },
  {
   "cell_type": "code",
   "execution_count": 16,
   "metadata": {},
   "outputs": [],
   "source": [
    "data_frame.loc[:, 'theoretical_mean_interval'] = data_frame.apply(lambda row: double_integrate_two_events(growth_rate,\n",
    "                                  v_init,\n",
    "                                  v_b_per_ori,\n",
    "                                  row.n_eff,\n",
    "                                  row.k_max,\n",
    "                                  t_max\n",
    "                                 )*60, axis = 1)"
   ]
  },
  {
   "cell_type": "code",
   "execution_count": 17,
   "metadata": {},
   "outputs": [
    {
     "data": {
      "text/html": [
       "<div>\n",
       "<style scoped>\n",
       "    .dataframe tbody tr th:only-of-type {\n",
       "        vertical-align: middle;\n",
       "    }\n",
       "\n",
       "    .dataframe tbody tr th {\n",
       "        vertical-align: top;\n",
       "    }\n",
       "\n",
       "    .dataframe thead th {\n",
       "        text-align: right;\n",
       "    }\n",
       "</style>\n",
       "<table border=\"1\" class=\"dataframe\">\n",
       "  <thead>\n",
       "    <tr style=\"text-align: right;\">\n",
       "      <th></th>\n",
       "      <th>n_eff</th>\n",
       "      <th>k_max</th>\n",
       "      <th>theoretical_mean_interval</th>\n",
       "    </tr>\n",
       "  </thead>\n",
       "  <tbody>\n",
       "    <tr>\n",
       "      <th>0</th>\n",
       "      <td>10.0</td>\n",
       "      <td>10.0</td>\n",
       "      <td>11.695491</td>\n",
       "    </tr>\n",
       "    <tr>\n",
       "      <th>1</th>\n",
       "      <td>10.0</td>\n",
       "      <td>12.0</td>\n",
       "      <td>10.991219</td>\n",
       "    </tr>\n",
       "    <tr>\n",
       "      <th>2</th>\n",
       "      <td>10.0</td>\n",
       "      <td>14.0</td>\n",
       "      <td>10.505555</td>\n",
       "    </tr>\n",
       "    <tr>\n",
       "      <th>3</th>\n",
       "      <td>10.0</td>\n",
       "      <td>16.0</td>\n",
       "      <td>10.151553</td>\n",
       "    </tr>\n",
       "    <tr>\n",
       "      <th>4</th>\n",
       "      <td>10.0</td>\n",
       "      <td>18.0</td>\n",
       "      <td>9.882582</td>\n",
       "    </tr>\n",
       "    <tr>\n",
       "      <th>...</th>\n",
       "      <td>...</td>\n",
       "      <td>...</td>\n",
       "      <td>...</td>\n",
       "    </tr>\n",
       "    <tr>\n",
       "      <th>395</th>\n",
       "      <td>48.0</td>\n",
       "      <td>40.0</td>\n",
       "      <td>2.621342</td>\n",
       "    </tr>\n",
       "    <tr>\n",
       "      <th>396</th>\n",
       "      <td>48.0</td>\n",
       "      <td>42.0</td>\n",
       "      <td>2.568377</td>\n",
       "    </tr>\n",
       "    <tr>\n",
       "      <th>397</th>\n",
       "      <td>48.0</td>\n",
       "      <td>44.0</td>\n",
       "      <td>2.520729</td>\n",
       "    </tr>\n",
       "    <tr>\n",
       "      <th>398</th>\n",
       "      <td>48.0</td>\n",
       "      <td>46.0</td>\n",
       "      <td>2.477657</td>\n",
       "    </tr>\n",
       "    <tr>\n",
       "      <th>399</th>\n",
       "      <td>48.0</td>\n",
       "      <td>48.0</td>\n",
       "      <td>2.438549</td>\n",
       "    </tr>\n",
       "  </tbody>\n",
       "</table>\n",
       "<p>400 rows × 3 columns</p>\n",
       "</div>"
      ],
      "text/plain": [
       "     n_eff  k_max  theoretical_mean_interval\n",
       "0     10.0   10.0                  11.695491\n",
       "1     10.0   12.0                  10.991219\n",
       "2     10.0   14.0                  10.505555\n",
       "3     10.0   16.0                  10.151553\n",
       "4     10.0   18.0                   9.882582\n",
       "..     ...    ...                        ...\n",
       "395   48.0   40.0                   2.621342\n",
       "396   48.0   42.0                   2.568377\n",
       "397   48.0   44.0                   2.520729\n",
       "398   48.0   46.0                   2.477657\n",
       "399   48.0   48.0                   2.438549\n",
       "\n",
       "[400 rows x 3 columns]"
      ]
     },
     "execution_count": 17,
     "metadata": {},
     "output_type": "execute_result"
    }
   ],
   "source": [
    "data_frame"
   ]
  },
  {
   "cell_type": "markdown",
   "metadata": {},
   "source": [
    "# Plot"
   ]
  },
  {
   "cell_type": "markdown",
   "metadata": {},
   "source": [
    "## Heatmap of degree of synchrony at different (k_max, n_eff)"
   ]
  },
  {
   "cell_type": "code",
   "execution_count": 18,
   "metadata": {},
   "outputs": [
    {
     "data": {
      "image/png": "[encoded data removed]",
      "text/plain": [
       "<Figure size 1346.4x235.44 with 2 Axes>"
      ]
     },
     "metadata": {},
     "output_type": "display_data"
    }
   ],
   "source": [
    "import matplotlib.colors as colors\n",
    "import matplotlib as mpl\n",
    "\n",
    "data_frame_ordered = data_frame.sort_values(by=[\"k_max\"])\n",
    "heatmap_df = data_frame_ordered.pivot(\"k_max\", \"n_eff\", \"theoretical_mean_interval\")\n",
    "\n",
    "cmap = mpl.cm.get_cmap(\"plasma\").copy()\n",
    "# cmap.set_over('darkred')\n",
    "sns.set(rc={'figure.figsize': (18.7, 3.27)})\n",
    "ax = sns.heatmap(heatmap_df, \n",
    "            square=True, \n",
    "            linewidths=.5,\n",
    "            cmap=cmap)\n",
    "ax.invert_yaxis()\n",
    "\n",
    "# ax.set_title(r'$s= \\frac{n_{\\rm ori}(t_{\\rm i})}{n_{\\rm ori}(t_{\\rm f})- n_{\\rm ori}(t_{\\rm i})}$')\n",
    "ax.set_facecolor('grey')\n",
    "ax.set(ylabel=r'$k_{\\rm f}^0}$ [h$^{-1}$]', xlabel=r'$n_{\\rm eff}$')\n",
    "plt.savefig(file_path + '/degree_synch_not_covaried.png', format='png', bbox_inches='tight', dpi=400)"
   ]
  },
  {
   "cell_type": "markdown",
   "metadata": {},
   "source": [
    "## Contour plot"
   ]
  },
  {
   "cell_type": "code",
   "execution_count": 22,
   "metadata": {},
   "outputs": [
    {
     "data": {
      "image/png": "[encoded data removed]",
      "text/plain": [
       "<Figure size 360x288 with 2 Axes>"
      ]
     },
     "metadata": {},
     "output_type": "display_data"
    }
   ],
   "source": [
    "import matplotlib.colors as colors\n",
    "import matplotlib as mpl\n",
    "\n",
    "data_frame_ordered = data_frame.sort_values(by=[\"k_max\"])\n",
    "cmap = mpl.cm.get_cmap(\"seismic\").copy()\n",
    "cmap.set_over('darkred')\n",
    "fig, ax = plt.subplots(1, figsize=(5,4))\n",
    "tcf= plt.tricontourf(data_frame_ordered.n_eff,\n",
    "               data_frame_ordered.k_max,\n",
    "               data_frame_ordered.theoretical_mean_interval,\n",
    "               cmap='plasma',\n",
    "                    levels=10)\n",
    "plt.tricontour(data_frame_ordered.n_eff,\n",
    "               data_frame_ordered.k_max,\n",
    "               data_frame_ordered.theoretical_mean_interval, colors='k',\n",
    "                    levels=10)\n",
    "ax.set(ylabel=r'$k_{\\rm f}^0}$ [h$^{-1}$]', xlabel=r'$n_{\\rm eff}$')\n",
    "fig.colorbar(tcf)\n",
    "plt.axvline(20, color='r')\n",
    "# plt.xticks(np.arange(10, 30, 5)) \n",
    "plt.plot(n_eff[:-1], calcuate_max_rate_given_n_eff(n_eff[:-1], growth_rate, v_init, v_b_per_ori), color='grey', linestyle='--')\n",
    "plt.savefig(file_path + '/fig_A11_isolines_delta_t.png', format='png', bbox_inches='tight', dpi=400)"
   ]
  },
  {
   "cell_type": "code",
   "execution_count": null,
   "metadata": {},
   "outputs": [],
   "source": []
  },
  {
   "cell_type": "code",
   "execution_count": null,
   "metadata": {},
   "outputs": [],
   "source": []
  }
 ],
 "metadata": {
  "kernelspec": {
   "display_name": "synchrony_project",
   "language": "python",
   "name": "synchrony_project"
  },
  "language_info": {
   "codemirror_mode": {
    "name": "ipython",
    "version": 3
   },
   "file_extension": ".py",
   "mimetype": "text/x-python",
   "name": "python",
   "nbconvert_exporter": "python",
   "pygments_lexer": "ipython3",
   "version": "3.7.3"
  }
 },
 "nbformat": 4,
 "nbformat_minor": 2
}
