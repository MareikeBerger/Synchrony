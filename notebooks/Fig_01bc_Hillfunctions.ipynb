{
 "cells": [
  {
   "cell_type": "code",
   "execution_count": 1,
   "metadata": {},
   "outputs": [],
   "source": [
    "import numpy as np\n",
    "import pandas as pd\n",
    "import os\n",
    "from glob import glob\n",
    "from pprint import pprint\n",
    "import json\n",
    "import seaborn as sns\n",
    "import matplotlib.pyplot as plt\n",
    "from scipy.optimize import curve_fit"
   ]
  },
  {
   "cell_type": "code",
   "execution_count": 2,
   "metadata": {},
   "outputs": [],
   "source": [
    "file_path = '/home/berger/Data/Synchrony/Paper/Fig_01/Hillfunctions'"
   ]
  },
  {
   "cell_type": "code",
   "execution_count": 3,
   "metadata": {},
   "outputs": [],
   "source": [
    "KD_0 = 0.5\n",
    "n_0 = 5\n",
    "\n",
    "pinkish_red = (247 / 255, 109 / 255, 109 / 255)\n",
    "green = (0 / 255, 133 / 255, 86 / 255)\n",
    "dark_blue = (36 / 255, 49 / 255, 94 / 255)\n",
    "light_blue = (168 / 255, 209 / 255, 231 / 255)\n",
    "blue = (55 / 255, 71 / 255, 133 / 255)\n",
    "yellow = (247 / 255, 233 / 255, 160 / 255)"
   ]
  },
  {
   "cell_type": "code",
   "execution_count": 4,
   "metadata": {},
   "outputs": [],
   "source": [
    "def hill_function(x, KD, n):\n",
    "    return 1/(1+(KD/x)**n)"
   ]
  },
  {
   "cell_type": "code",
   "execution_count": 5,
   "metadata": {},
   "outputs": [],
   "source": [
    "x=np.arange(0.01, 1, 0.01)\n",
    "# print(x)\n",
    "y = hill_function(x, KD_0, n_0)\n",
    "# print(y)"
   ]
  },
  {
   "cell_type": "code",
   "execution_count": 9,
   "metadata": {},
   "outputs": [
    {
     "data": {
      "image/png": "[encoded data removed]",
      "text/plain": [
       "<Figure size 360x288 with 1 Axes>"
      ]
     },
     "metadata": {},
     "output_type": "display_data"
    }
   ],
   "source": [
    "# sns.set(style=\"ticks\")\n",
    "# sns.set_context(\"poster\")\n",
    "\n",
    "fig, ax = plt.subplots(figsize=(5,4))\n",
    "ax.plot(x,y, color=pinkish_red)\n",
    "ax.set(xlabel=r'v', ylabel=r'$f(v)$')\n",
    "ax.margins(0)\n",
    "\n",
    "ax.vlines(0.5, ymin=0, ymax=1, linestyle='--', color=pinkish_red, linewidth=2)\n",
    "ax.set_xticks([0, 0.5, 1])\n",
    "ax.set_xticklabels(['0', r'$v^\\ast$', '1'])\n",
    "ax.get_xticklabels()[1].set_color(pinkish_red)\n",
    "\n",
    "[x.set_linewidth(2) for x in ax.spines.values()]\n",
    "ax.xaxis.set_tick_params(width=2)\n",
    "ax.yaxis.set_tick_params(width=2)\n",
    "right_side = ax.spines[\"right\"]\n",
    "right_side.set_visible(False)\n",
    "upper_side = ax.spines[\"top\"]\n",
    "upper_side.set_visible(False)\n",
    "# ax.set_title(r'$f=\\frac{ATP-DnaA}{ATP-DnaA+ ADP-DnaA}$')\n",
    "# fig.suptitle(r'$f(v)= \\frac{v^n}{v^n+K_{\\rm D}^n}$', fontsize=16)\n",
    "\n",
    "ax.hlines(0.5, xmin=0, xmax=1, linestyle='--', color=pinkish_red, linewidth=2)\n",
    "ax.set_yticks([0, 0.5,  1])\n",
    "ax.set_yticklabels(['0', r'$f^\\ast$', '1'])\n",
    "ax.get_yticklabels()[1].set_color(pinkish_red)\n",
    "plt.savefig(file_path + '/effective_hill_coef_n.pdf', format='pdf', bbox_inches='tight')"
   ]
  },
  {
   "cell_type": "code",
   "execution_count": 10,
   "metadata": {},
   "outputs": [
    {
     "data": {
      "image/png": "[encoded data removed]",
      "text/plain": [
       "<Figure size 360x288 with 1 Axes>"
      ]
     },
     "metadata": {},
     "output_type": "display_data"
    }
   ],
   "source": [
    "sns.set(style=\"ticks\")\n",
    "sns.set_context(\"poster\")\n",
    "\n",
    "fig, ax = plt.subplots(figsize=(5,4))\n",
    "ax.plot(x,y, color=blue)\n",
    "ax.set(xlabel=r'f', ylabel=r'$p_{o}(f \\, )$')\n",
    "ax.vlines(0.5, ymin=0, ymax=1, linestyle='--', color=blue, linewidth=2)\n",
    "ax.margins(0)\n",
    "ax.set_xticks([0, 0.5,  1])\n",
    "ax.set_xticklabels(['0',  r'$f^\\ast$',  '1'])\n",
    "ax.get_xticklabels()[1].set_color(blue)\n",
    "\n",
    "[x.set_linewidth(2) for x in ax.spines.values()]\n",
    "ax.xaxis.set_tick_params(width=2)\n",
    "ax.yaxis.set_tick_params(width=2)\n",
    "right_side = ax.spines[\"right\"]\n",
    "right_side.set_visible(False)\n",
    "upper_side = ax.spines[\"top\"]\n",
    "upper_side.set_visible(False)\n",
    "# ax.set_title(r'$p_{open}(f)= \\frac{f\\, ^m}{f\\, ^m+f^{\\ast\\, m}}$')\n",
    "# fig.suptitle(r'$f(v)= \\frac{v^n}{v^n+K_{\\rm D}^n}$', fontsize=16)\n",
    "\n",
    "ax.hlines(0.5, xmin=0, xmax=1, linestyle='--', color=blue, linewidth=2)\n",
    "ax.set_yticks([0, 0.5, 1])\n",
    "ax.set_yticklabels(['0', '0.5', '1'])\n",
    "# ax.get_yticklabels()[1].set_color(blue)\n",
    "plt.savefig(file_path + '/hill_funct_p_open.pdf', format='pdf', bbox_inches='tight')"
   ]
  },
  {
   "cell_type": "code",
   "execution_count": null,
   "metadata": {},
   "outputs": [],
   "source": []
  },
  {
   "cell_type": "code",
   "execution_count": null,
   "metadata": {},
   "outputs": [],
   "source": []
  },
  {
   "cell_type": "code",
   "execution_count": null,
   "metadata": {},
   "outputs": [],
   "source": []
  }
 ],
 "metadata": {
  "kernelspec": {
   "display_name": "synchrony_project",
   "language": "python",
   "name": "synchrony_project"
  },
  "language_info": {
   "codemirror_mode": {
    "name": "ipython",
    "version": 3
   },
   "file_extension": ".py",
   "mimetype": "text/x-python",
   "name": "python",
   "nbconvert_exporter": "python",
   "pygments_lexer": "ipython3",
   "version": "3.7.3"
  }
 },
 "nbformat": 4,
 "nbformat_minor": 2
}
