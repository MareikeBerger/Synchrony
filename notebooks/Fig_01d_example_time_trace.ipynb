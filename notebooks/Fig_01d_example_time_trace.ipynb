{
 "cells": [
  {
   "cell_type": "code",
   "execution_count": 1,
   "metadata": {},
   "outputs": [],
   "source": [
    "import numpy as np\n",
    "import pandas as pd\n",
    "import os\n",
    "import seaborn as sns\n",
    "import matplotlib.pyplot as plt\n",
    "\n",
    "import synchrony.PlottingTools as plottingTools\n",
    "from synchrony.ParameterSet import ParameterSet\n",
    "import synchrony.DataStorage as dataStorage\n",
    "import synchrony.DataAnalysis as dataAnalysis\n",
    "import synchrony.MakeDataframe as makeDataframe\n",
    "from synchrony import mainClass"
   ]
  },
  {
   "cell_type": "code",
   "execution_count": 2,
   "metadata": {},
   "outputs": [
    {
     "name": "stdout",
     "output_type": "stream",
     "text": [
      "file_path /home/berger/Data/Synchrony/Paper/Fig_01/Time_traces\n",
      "parameter_path /home/berger/Data/Synchrony/Paper/Fig_01/Time_traces/parameter_set.csv\n"
     ]
    }
   ],
   "source": [
    "file_path_input_params_json = '../input_params.json'\n",
    "input_param_dict = mainClass.extract_variables_from_input_params_json(file_path_input_params_json)\n",
    "root_path = input_param_dict[\"DATA_FOLDER_PATH\"]\n",
    "simulation_location = 'Paper/Fig_01/Time_traces'\n",
    "file_path = os.path.join(root_path, simulation_location)\n",
    "print('file_path', file_path)\n",
    "parameter_path = os.path.join(file_path, 'parameter_set.csv')\n",
    "print('parameter_path', parameter_path)"
   ]
  },
  {
   "cell_type": "code",
   "execution_count": 3,
   "metadata": {},
   "outputs": [],
   "source": [
    "pinkish_red = (247 / 255, 109 / 255, 109 / 255)\n",
    "green = (0 / 255, 133 / 255, 86 / 255)\n",
    "dark_blue = (36 / 255, 49 / 255, 94 / 255)\n",
    "light_blue = (168 / 255, 209 / 255, 231 / 255)\n",
    "blue = (55 / 255, 71 / 255, 133 / 255)\n",
    "yellow = (247 / 255, 233 / 255, 160 / 255)\n",
    "orange = (235 / 255, 157 / 255, 18 / 255)"
   ]
  },
  {
   "cell_type": "markdown",
   "metadata": {},
   "source": [
    "# Make data frame from time traces"
   ]
  },
  {
   "cell_type": "code",
   "execution_count": 4,
   "metadata": {},
   "outputs": [
    {
     "name": "stdout",
     "output_type": "stream",
     "text": [
      "['/home/berger/Data/Synchrony/Paper/Fig_01/Time_traces/Example_time_trace_new']\n",
      "0     1.427133\n",
      "1     1.482482\n",
      "2     1.361615\n",
      "3     1.446847\n",
      "4     1.390365\n",
      "5     1.397900\n",
      "6     1.463026\n",
      "7     1.455287\n",
      "8     1.413091\n",
      "9     1.393974\n",
      "10    1.413675\n",
      "11    1.393535\n",
      "12    1.324595\n",
      "13    1.328316\n",
      "14    1.389334\n",
      "15    1.467121\n",
      "16    1.312388\n",
      "Name: v_b, dtype: float64\n"
     ]
    },
    {
     "data": {
      "text/html": [
       "<div>\n",
       "<style scoped>\n",
       "    .dataframe tbody tr th:only-of-type {\n",
       "        vertical-align: middle;\n",
       "    }\n",
       "\n",
       "    .dataframe tbody tr th {\n",
       "        vertical-align: top;\n",
       "    }\n",
       "\n",
       "    .dataframe thead th {\n",
       "        text-align: right;\n",
       "    }\n",
       "</style>\n",
       "<table border=\"1\" class=\"dataframe\">\n",
       "  <thead>\n",
       "    <tr style=\"text-align: right;\">\n",
       "      <th></th>\n",
       "      <th>simu_name</th>\n",
       "      <th>simu_path</th>\n",
       "      <th>sub_simu_name</th>\n",
       "      <th>sub_simu_path</th>\n",
       "      <th>path_parameter_file</th>\n",
       "      <th>path_dataset</th>\n",
       "      <th>n_series</th>\n",
       "      <th>id</th>\n",
       "      <th>git_version</th>\n",
       "      <th>doubling_rate</th>\n",
       "      <th>...</th>\n",
       "      <th>block_production_onset</th>\n",
       "      <th>block_production_offset</th>\n",
       "      <th>f_crit</th>\n",
       "      <th>high_rate_dars2</th>\n",
       "      <th>dars2_rate_indep_density</th>\n",
       "      <th>cv_division_position</th>\n",
       "      <th>independent_division_cycle</th>\n",
       "      <th>version_of_independent_division_regulation</th>\n",
       "      <th>version_of_coupled_division_regulation</th>\n",
       "      <th>division_volume</th>\n",
       "    </tr>\n",
       "  </thead>\n",
       "  <tbody>\n",
       "    <tr>\n",
       "      <th>0</th>\n",
       "      <td>Example_time_trace_new</td>\n",
       "      <td>/home/berger/Data/Synchrony/Paper/Fig_01/Time_...</td>\n",
       "      <td>vary_growth_rate_0</td>\n",
       "      <td>/home/berger/Data/Synchrony/Paper/Fig_01/Time_...</td>\n",
       "      <td>/home/berger/Data/Synchrony/Paper/Fig_01/Time_...</td>\n",
       "      <td>/home/berger/Data/Synchrony/Paper/Fig_01/Time_...</td>\n",
       "      <td>1</td>\n",
       "      <td>0</td>\n",
       "      <td>4df118328b1c1f2480f9fa5849276c749a16c5e9</td>\n",
       "      <td>1.5</td>\n",
       "      <td>...</td>\n",
       "      <td>0.11</td>\n",
       "      <td>0.17</td>\n",
       "      <td>0.5</td>\n",
       "      <td>600.0</td>\n",
       "      <td>0.0</td>\n",
       "      <td>0.0</td>\n",
       "      <td>0.0</td>\n",
       "      <td>IDA</td>\n",
       "      <td>cooper</td>\n",
       "      <td>2.828427</td>\n",
       "    </tr>\n",
       "  </tbody>\n",
       "</table>\n",
       "<p>1 rows × 94 columns</p>\n",
       "</div>"
      ],
      "text/plain": [
       "                simu_name                                          simu_path  \\\n",
       "0  Example_time_trace_new  /home/berger/Data/Synchrony/Paper/Fig_01/Time_...   \n",
       "\n",
       "        sub_simu_name                                      sub_simu_path  \\\n",
       "0  vary_growth_rate_0  /home/berger/Data/Synchrony/Paper/Fig_01/Time_...   \n",
       "\n",
       "                                 path_parameter_file  \\\n",
       "0  /home/berger/Data/Synchrony/Paper/Fig_01/Time_...   \n",
       "\n",
       "                                        path_dataset  n_series  id  \\\n",
       "0  /home/berger/Data/Synchrony/Paper/Fig_01/Time_...         1   0   \n",
       "\n",
       "                                git_version  doubling_rate  ...  \\\n",
       "0  4df118328b1c1f2480f9fa5849276c749a16c5e9            1.5  ...   \n",
       "\n",
       "   block_production_onset  block_production_offset  f_crit  high_rate_dars2  \\\n",
       "0                    0.11                     0.17     0.5            600.0   \n",
       "\n",
       "   dars2_rate_indep_density  cv_division_position  independent_division_cycle  \\\n",
       "0                       0.0                   0.0                         0.0   \n",
       "\n",
       "   version_of_independent_division_regulation  \\\n",
       "0                                         IDA   \n",
       "\n",
       "   version_of_coupled_division_regulation  division_volume  \n",
       "0                                  cooper         2.828427  \n",
       "\n",
       "[1 rows x 94 columns]"
      ]
     },
     "execution_count": 4,
     "metadata": {},
     "output_type": "execute_result"
    }
   ],
   "source": [
    "data_frame = makeDataframe.make_dataframe(file_path)\n",
    "time_traces_data_frame = pd.read_hdf(data_frame['path_dataset'].iloc[0], key='dataset_time_traces')\n",
    "\n",
    "v_init_data_frame = pd.read_hdf(data_frame['path_dataset'].iloc[0], key='dataset_init_events')\n",
    "v_init = v_init_data_frame.iloc[0]['v_init']\n",
    "t_init_list = v_init_data_frame['t_init'].to_numpy()\n",
    "# print(v_init)\n",
    "\n",
    "v_d_data_frame = pd.read_hdf(data_frame['path_dataset'].iloc[0], key='dataset_div_events')\n",
    "print(v_d_data_frame['v_b'])\n",
    "data_frame"
   ]
  },
  {
   "cell_type": "code",
   "execution_count": 5,
   "metadata": {},
   "outputs": [
    {
     "name": "stdout",
     "output_type": "stream",
     "text": [
      "[2.9637 3.6888 4.3172] [4.3172]\n",
      "[2.6886 2.7189 3.317  3.3351 3.9889 4.076 ]\n"
     ]
    }
   ],
   "source": [
    "time = np.array(time_traces_data_frame[\"time\"])\n",
    "volume = np.array(time_traces_data_frame[\"volume\"])\n",
    "n_ori = np.array(time_traces_data_frame[\"n_ori\"])\n",
    "active_fraction = np.array(time_traces_data_frame[\"activation_potential\"])\n",
    "opening_prob = np.array(time_traces_data_frame[\"origin_opening_probability\"])\n",
    "# print(time.size)\n",
    "t_0 = time[volume==v_d_data_frame['v_b'][1]]\n",
    "indx_0 = np.where(time==t_0)[0][0]\n",
    "t_f = time[volume==v_d_data_frame['v_b'][4]]\n",
    "indx_f = np.where(time==t_f)[0][0]+20\n",
    "\n",
    "# print(indx_0, indx_f)\n",
    "\n",
    "n_ori_cut = n_ori[indx_0:indx_f]\n",
    "time_cut = time[indx_0:indx_f]\n",
    "volume_cut = volume[indx_0:indx_f]\n",
    "active_fraction_cut = active_fraction[indx_0:indx_f]\n",
    "opening_prob_cut = opening_prob[indx_0:indx_f]\n",
    "\n",
    "t_init_list_cut_1 = t_init_list[t_init_list>t_0]\n",
    "t_init_list_cut = t_init_list_cut_1[t_init_list_cut_1<t_f]\n",
    "\n",
    "t_b_list = np.array(v_d_data_frame['t_d'])\n",
    "\n",
    "t_b_cut_1 = t_b_list[t_b_list>t_0]\n",
    "# t_b = t_init_list_cut + data_frame.iloc[0]['t_CD']\n",
    "t_b_cut = t_b_cut_1[t_b_cut_1<=t_f]\n",
    "print(t_b_cut, t_f)\n",
    "print(t_init_list_cut)"
   ]
  },
  {
   "cell_type": "markdown",
   "metadata": {},
   "source": [
    "# Plot time traces"
   ]
  },
  {
   "cell_type": "code",
   "execution_count": 6,
   "metadata": {},
   "outputs": [
    {
     "name": "stdout",
     "output_type": "stream",
     "text": [
      "0.6666666666666666\n"
     ]
    },
    {
     "data": {
      "image/png": "[encoded data removed]",
      "text/plain": [
       "<Figure size 216x252 with 5 Axes>"
      ]
     },
     "metadata": {
      "needs_background": "light"
     },
     "output_type": "display_data"
    }
   ],
   "source": [
    "label_list = [r'$V(t)$', r'$n_{ori}(t)$',r'$v(t)$',  r'$y(t)$', r'$p_{\\rm o}(t)$']\n",
    "legend_bool_list = [0, 0, 0, 0, 0]\n",
    "# legend_list = [' ', ' ', r'$\\langle f \\, \\rangle = {}$'.format(np.round(dataAnalysis.calculate_average_active_fraction(data_frame, 3, 0), 2))]\n",
    "x_axes_list = [time_cut, time_cut, time_cut, time_cut, time_cut]\n",
    "y_axes_list = [volume_cut, n_ori_cut, volume_cut/n_ori_cut, active_fraction_cut, opening_prob_cut]\n",
    "color_list = [green, dark_blue, blue, orange, pinkish_red]\n",
    "\n",
    "fig, ax = plt.subplots(5, figsize=(3,3.5))\n",
    "plt.xlabel(r'time [$\\tau_{\\rm d}$]')\n",
    "y_min_list = [0,0,0,0,0]\n",
    "y_max_list = [1, 1.2, 1.2, 1.2, 1.2]\n",
    "\n",
    "doubling_time = 1/data_frame.iloc[0]['doubling_rate']\n",
    "print(doubling_time)\n",
    "for item in range(0, len(label_list)):\n",
    "    ax[item].set_ylabel(label_list[item])\n",
    "    ax[item].plot(x_axes_list[item], y_axes_list[item], color=color_list[item])\n",
    "    ax[item].set_ylim(ymin=0)\n",
    "    ax[item].tick_params(\n",
    "        axis='x',          # changes apply to the x-axis\n",
    "        which='both',      # both major and minor ticks are affected\n",
    "        bottom=False,      # ticks along the bottom edge are off\n",
    "        top=False,         # ticks along the top edge are off\n",
    "        labelbottom=False) # labels along the bottom edge are off\n",
    "    ax[item].spines[\"top\"].set_visible(False)\n",
    "    ax[item].spines[\"right\"].set_visible(False)\n",
    "    ax[item].margins(0)\n",
    "    for t_div in t_b_cut:\n",
    "        ax[item].axvline(x=t_div, \n",
    "                          ymin=y_min_list[item],\n",
    "                          ymax=y_max_list[item],\n",
    "                             c=\"grey\",\n",
    "                          zorder=0, \n",
    "                          linewidth=0.8,\n",
    "                          clip_on=False)\n",
    "    for t_init in t_init_list_cut:\n",
    "        ax[item].axvline(x=t_init, \n",
    "                          ymin=y_min_list[item],\n",
    "                          ymax=y_max_list[item],\n",
    "                             c=\"grey\",\n",
    "                          zorder=0, \n",
    "                          linewidth=0.8,\n",
    "                          linestyle='--',\n",
    "                          clip_on=False)\n",
    "        ax[item].axvspan(t_init, \n",
    "                 t_init + data_frame.iloc[0]['period_blocked'], \n",
    "                  ymin=y_min_list[item],\n",
    "                  ymax=y_max_list[item],\n",
    "                 alpha=0.3, \n",
    "                 color=light_blue, \n",
    "                 linewidth=0.8,\n",
    "                 clip_on=False)\n",
    "        ax[item].axvspan(t_init, \n",
    "                 t_init + data_frame.iloc[0]['t_doubling_datA'], \n",
    "                  ymin=y_min_list[item],\n",
    "                  ymax=y_max_list[item],\n",
    "                 alpha=0.3, \n",
    "                 color='grey', \n",
    "                 linewidth=0.8,\n",
    "                 clip_on=False)\n",
    "        \n",
    "ax[0].set_yticks([0, 2])\n",
    "ax[0].set_yticklabels(['0',r'2 $v^\\ast$'])\n",
    "ax[0].get_yticklabels()[1].set_color(green)\n",
    "ax[0].axhline(y=2, color=green, linestyle='--')\n",
    "# labelx = -0.1  # axes coords\n",
    "# for j in range(3):\n",
    "#     ax[j].yaxis.set_label_coords(labelx, 0.5)\n",
    "\n",
    "if data_frame.iloc[0][\"doubling_rate\"] <= 0.5:\n",
    "    ax[1].set_yticks([0,1,2])\n",
    "    ax[1].set_yticklabels([r'0',r'1', r'2'])\n",
    "    \n",
    "elif data_frame.iloc[0][\"doubling_rate\"] <= 1.8:\n",
    "    ax[1].set_yticks([0,2,4])\n",
    "    ax[1].set_yticklabels([r'0',r'2', r'4'])\n",
    "else:\n",
    "    ax[1].set_yticks([0,4,8])\n",
    "    ax[1].set_yticklabels([r'0',r'4', r'8'])\n",
    "\n",
    "ax[2].set_yticks([0, 0.5])\n",
    "ax[2].set_yticklabels(['0', r'0.5'])\n",
    "# ax[2].set_yticks([0, data_frame.iloc[0]['frac_init']])\n",
    "# ax[2].set_yticklabels(['0', r'$f^\\ast$'])\n",
    "# ax[2].get_yticklabels()[1].set_color(pinkish_red)\n",
    "ax[3].set_yticks([0, 0.5,1])\n",
    "ax[3].set_yticklabels(['0', r'0.5', r'1'])\n",
    "# ax[2].get_yticklabels()[1].set_color(pinkish_red)\n",
    "ax[4].set_yticks([0, 0.5,1])\n",
    "ax[4].set_yticklabels(['0', r'0.5', r'1'])\n",
    "ax[4].tick_params(bottom=True, labelbottom=True)\n",
    "ax[4].tick_params(axis='x', colors='black')\n",
    "ax[4].set_xticks([time_cut[0], \n",
    "                  time_cut[0]+ doubling_time, \n",
    "                  time_cut[0]+ 2 * doubling_time\n",
    "                 ])\n",
    "ax[4].set_xticklabels(['0', '1', '2'])\n",
    "fig.align_ylabels()\n",
    "plt.savefig(file_path + '/Example_time_trace.pdf', format='pdf', bbox_inches='tight')"
   ]
  },
  {
   "cell_type": "code",
   "execution_count": null,
   "metadata": {},
   "outputs": [],
   "source": []
  },
  {
   "cell_type": "code",
   "execution_count": null,
   "metadata": {},
   "outputs": [],
   "source": []
  }
 ],
 "metadata": {
  "kernelspec": {
   "display_name": "synchrony_project",
   "language": "python",
   "name": "synchrony_project"
  },
  "language_info": {
   "codemirror_mode": {
    "name": "ipython",
    "version": 3
   },
   "file_extension": ".py",
   "mimetype": "text/x-python",
   "name": "python",
   "nbconvert_exporter": "python",
   "pygments_lexer": "ipython3",
   "version": "3.7.3"
  }
 },
 "nbformat": 4,
 "nbformat_minor": 2
}
